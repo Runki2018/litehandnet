{
 "cells": [
  {
   "cell_type": "markdown",
   "metadata": {},
   "source": [
    "检查数据处理和加载是否有问题"
   ]
  },
  {
   "cell_type": "code",
   "execution_count": 8,
   "metadata": {},
   "outputs": [],
   "source": [
    "import os\n",
    "import addict\n",
    "import numpy as np\n",
    "from tqdm import tqdm\n",
    "from datasets.dataloader import make_dataloader\n",
    "from config.srhandnet.freihand2d_224x224 import cfg\n",
    "import matplotlib.pyplot as plt\n",
    "%matplotlib inline\n",
    "# %config InlineBackend.figure_format = 'retina'"
   ]
  },
  {
   "cell_type": "code",
   "execution_count": 9,
   "metadata": {},
   "outputs": [
    {
     "name": "stdout",
     "output_type": "stream",
     "text": [
      "loading annotations into memory...\n",
      "Done (t=0.01s)\n",
      "creating index...\n",
      "index created!\n",
      "=> num_images: 100\n",
      "=> load 100 samples\n",
      "num_wokers=4\n"
     ]
    }
   ],
   "source": [
    "cfg = addict.Dict(cfg)\n",
    "dataset, loader = make_dataloader(cfg, data_type='test', use_cpu=True)"
   ]
  },
  {
   "cell_type": "code",
   "execution_count": 11,
   "metadata": {},
   "outputs": [
    {
     "data": {
      "text/plain": [
       "100"
      ]
     },
     "execution_count": 11,
     "metadata": {},
     "output_type": "execute_result"
    }
   ],
   "source": [
    "dataset.__len__()"
   ]
  },
  {
   "cell_type": "code",
   "execution_count": null,
   "metadata": {},
   "outputs": [],
   "source": [
    "import torch\n",
    "from utils.visualization_tools import draw_point, draw_bbox\n",
    "def show_imgs(imgs, joints, bboxes):\n",
    "    mean = torch.tensor([0.485, 0.456, 0.406]).reshape(1, 3, 1, 1)\n",
    "    std = torch.tensor([0.229, 0.224, 0.225]).reshape(1, 3, 1, 1)\n",
    "    imgs = imgs * std + mean\n",
    "    imgs *= 255\n",
    "    imgs = torch.permute(imgs, (0,2,3,1)).cpu().numpy().copy().astype(np.int32)\n",
    "\n",
    "    bs, h, w, c = imgs.shape\n",
    "    rows = bs // 2\n",
    "    cols = bs - rows\n",
    "    idx = 0\n",
    "    for row in range(rows):\n",
    "        for col in range(cols):\n",
    "            img = imgs[idx].copy()\n",
    "            joint = joints[idx].copy()\n",
    "            bbox = bboxes[idx].cpu().numpy().copy()\n",
    "            img = draw_point(img, joint, is_rgb=True)\n",
    "            img = draw_bbox(img, bbox, xyxy=False)\n",
    "            plt.subplot(rows, cols, idx+1)\n",
    "            plt.xticks([])\n",
    "            plt.yticks([])\n",
    "            plt.imshow(img)\n",
    "            idx += 1\n",
    "    # plt.title('GT Images')\n",
    "    plt.show()"
   ]
  },
  {
   "cell_type": "code",
   "execution_count": null,
   "metadata": {},
   "outputs": [],
   "source": [
    "from test.top_down_eval import keypoints_from_heatmaps\n",
    "def decode(data_meta, output):\n",
    "    batch_size = output.shape[0]\n",
    "    bbox_ids = data_meta['bbox_id'].cpu().clone().numpy().tolist()\n",
    "    score = data_meta['bbox_score'].cpu().clone().numpy()\n",
    "    image_paths = data_meta['image_file']\n",
    "\n",
    "    c = data_meta['center'].cpu().clone().numpy()\n",
    "    s = data_meta['scale'].cpu().clone().numpy()\n",
    "\n",
    "    preds, maxvals = keypoints_from_heatmaps(\n",
    "        output.cpu().clone().numpy(),\n",
    "        c,\n",
    "        s,\n",
    "        post_process='unbiased',  # None, 'default', 'unbiased', 'megvii'\n",
    "        kernel=11,\n",
    "        use_udp=True,\n",
    "        target_type='GaussianHeatmap')\n",
    "\n",
    "    all_preds = np.zeros((batch_size, preds.shape[1], 3), dtype=np.float32)\n",
    "    all_boxes = np.zeros((batch_size, 6), dtype=np.float32)\n",
    "    all_preds[:, :, 0:2] = preds[:, :, 0:2]\n",
    "    all_preds[:, :, 2:3] = maxvals\n",
    "    all_boxes[:, 0:2] = c[:, 0:2]   # bbox的 中心点\n",
    "    all_boxes[:, 2:4] = s[:, 0:2]   # bbox的 宽高/200\n",
    "    all_boxes[:, 4] = np.prod(s * 200.0, axis=1)   # bbox的面积\n",
    "    all_boxes[:, 5] = score   # bbox的得分\n",
    "\n",
    "    # for i in range(batch_size):\n",
    "    result = {}\n",
    "    result['preds'] = all_preds\n",
    "    result['boxes'] = all_boxes\n",
    "    result['image_paths'] = image_paths\n",
    "    result['bbox_ids'] = bbox_ids\n",
    "    result['output_heatmap'] = output\n",
    "\n",
    "    return result"
   ]
  },
  {
   "cell_type": "code",
   "execution_count": null,
   "metadata": {},
   "outputs": [],
   "source": [
    "results = []\n",
    "for i, data in tqdm(enumerate(loader)):\n",
    "    if i == 3:        \n",
    "        print(data.keys())\n",
    "        imgs = data['img']\n",
    "        img_size = imgs.shape[2]\n",
    "        joints = data['joints_3d'].numpy()\n",
    "        bboxes = data['bbox'] \n",
    "        bboxes = [b * img_size / 224  for b in bboxes]\n",
    "        center = data['center']\n",
    "        print(f\"{center=}\")\n",
    "        print(f\"{data['bbox_score']=}\")\n",
    "        print(f\"{data['bbox_id']=}\")\n",
    "\n",
    "        print(f\"{imgs.shape=}\")\n",
    "        print(f\"{bboxes=}\")\n",
    "        print(f\"{joints.shape=}\")\n",
    "\n",
    "        show_imgs(imgs, joints, bboxes)\n",
    "        break\n",
    "    # results.append(decode(data, data['target']))"
   ]
  },
  {
   "cell_type": "code",
   "execution_count": null,
   "metadata": {},
   "outputs": [],
   "source": [
    "metric_value = dataset.evaluate(results)\n",
    "metric_value"
   ]
  },
  {
   "cell_type": "code",
   "execution_count": null,
   "metadata": {},
   "outputs": [],
   "source": [
    "from xtcocotools.coco import COCO\n",
    "from xtcocotools.cocoeval import COCOeval\n",
    "# from pycocotools.coco import COCO\n",
    "# from pycocotools.cocoeval import COCOeval\n",
    "from pathlib import Path\n",
    "from utils.post_processing.coco_wholebody_evaluation.evaluation_wholebody import *\n",
    "import json\n",
    "from utils.post_processing.hand_oks import test_hand_oks"
   ]
  },
  {
   "cell_type": "code",
   "execution_count": null,
   "metadata": {},
   "outputs": [],
   "source": [
    "gt_resuls_file = Path('utils/post_processing/coco_wholebody_evaluation/example_gt.json')\n",
    "pred_resuls_file = Path('utils/post_processing/coco_wholebody_evaluation/example_pred.json')\n",
    "with gt_resuls_file.open('r') as fd:\n",
    "    gt_results = json.load(fd)\n",
    "with pred_resuls_file.open('r') as fd:\n",
    "    pred_results = json.load(fd)   "
   ]
  },
  {
   "cell_type": "code",
   "execution_count": null,
   "metadata": {},
   "outputs": [],
   "source": [
    "hand_pred_results = []\n",
    "for ann in pred_results:\n",
    "    hand_pred_results.append(dict(\n",
    "        image_id=ann['image_id'],\n",
    "        category_id=ann['category_id'],\n",
    "        keypoints=[1]*51,\n",
    "        score=1.,\n",
    "        lefthand_kpts=ann['lefthand_kpts'],\n",
    "        righthand_kpts=ann['righthand_kpts'],\n",
    "        lefthand_score=ann['righthand_score'],\n",
    "        righthand_score=ann['righthand_score'],\n",
    "    ))\n",
    "results_file = Path('./hand_pred.json')\n",
    "json.dump(hand_pred_results, results_file.open('w'))\n",
    "test_hand_oks(gt_resuls_file, str(results_file))\n",
    "results_file.unlink(missing_ok=True)   # 删除临时存储的json文件"
   ]
  },
  {
   "cell_type": "code",
   "execution_count": null,
   "metadata": {},
   "outputs": [],
   "source": [
    "coco = COCO(gt_resuls_file)\n",
    "coco_dt = coco.loadRes(str(pred_resuls_file))\n",
    "coco_eval = test_lefthand(coco, coco_dt)\n",
    "coco_eval = test_righthand(coco, coco_dt)\n",
    "# coco_eval = COCOeval(coco, coco_dt, 'keypoints')\n",
    "# coco_eval.params.useSegm = None\n",
    "# coco_eval.evaluate()\n",
    "# coco_eval.accumulate()\n",
    "# coco_eval.summarize()\n",
    "print(f\"{coco_eval.stats=}\")  # （list）12个值，对于 AP AP50 AP75 ..."
   ]
  },
  {
   "cell_type": "code",
   "execution_count": null,
   "metadata": {},
   "outputs": [],
   "source": [
    "pred_results[0].keys()"
   ]
  },
  {
   "cell_type": "code",
   "execution_count": null,
   "metadata": {},
   "outputs": [],
   "source": [
    "bbox_pred_results = []\n",
    "for ann in gt_results['annotations']:\n",
    "    bbox_pred_results.append(dict(\n",
    "        image_id=ann['image_id'],\n",
    "        bbox=ann['bbox'],\n",
    "        score=1.,\n",
    "        category_id=ann['category_id']\n",
    "    ))\n",
    "bbox_pred_file = Path('./example_bbox_pred.json')\n",
    "json.dump(bbox_pred_results, bbox_pred_file.open('w'))"
   ]
  },
  {
   "cell_type": "code",
   "execution_count": null,
   "metadata": {},
   "outputs": [],
   "source": [
    "from pycocotools.coco import COCO\n",
    "from pycocotools.cocoeval import COCOeval\n",
    "coco = COCO(gt_resuls_file)\n",
    "coco_dt = coco.loadRes(str(bbox_pred_file))\n",
    "coco_eval = COCOeval(coco, coco_dt, \"bbox\")\n",
    "coco_eval.evaluate()\n",
    "coco_eval.accumulate()\n",
    "coco_eval.summarize()\n",
    "print(f\"{coco_eval.stats=}\")"
   ]
  },
  {
   "cell_type": "code",
   "execution_count": null,
   "metadata": {},
   "outputs": [],
   "source": [
    "preds = json.load(bbox_pred_file.open('r'))\n",
    "print(f\"{type(preds)==list}\")"
   ]
  },
  {
   "cell_type": "code",
   "execution_count": 1,
   "metadata": {},
   "outputs": [],
   "source": [
    "import torch\n",
    "model_path = 'models/pose_estimation/SRHandNet/srhandnet.pts'\n",
    "model = torch.jit.load(model_path, map_location=torch.device('cpu'))"
   ]
  },
  {
   "cell_type": "code",
   "execution_count": null,
   "metadata": {},
   "outputs": [],
   "source": [
    "for k, v in model.state_dict().items():\n",
    "    print(f\"k={k:20}\\t{v.shape}\")"
   ]
  },
  {
   "cell_type": "code",
   "execution_count": null,
   "metadata": {},
   "outputs": [],
   "source": [
    "print(model)"
   ]
  },
  {
   "cell_type": "code",
   "execution_count": 4,
   "metadata": {},
   "outputs": [],
   "source": [
    "import torch\n",
    "from models import SRHandNet\n",
    "net = SRHandNet()\n",
    "x = torch.rand(2, 3, 352, 352)\n",
    "y = net(x)"
   ]
  },
  {
   "cell_type": "code",
   "execution_count": 5,
   "metadata": {},
   "outputs": [
    {
     "name": "stdout",
     "output_type": "stream",
     "text": [
      "torch.Size([2, 24, 22, 22])\n",
      "torch.Size([2, 24, 22, 22])\n",
      "torch.Size([2, 24, 44, 44])\n",
      "torch.Size([2, 24, 88, 88])\n"
     ]
    }
   ],
   "source": [
    "for yi in y:\n",
    "    print(yi.shape)"
   ]
  },
  {
   "cell_type": "code",
   "execution_count": 6,
   "metadata": {},
   "outputs": [
    {
     "data": {
      "text/plain": [
       "['ChainedScheduler',\n",
       " 'ConstantLR',\n",
       " 'CosineAnnealingLR',\n",
       " 'CosineAnnealingWarmRestarts',\n",
       " 'Counter',\n",
       " 'CyclicLR',\n",
       " 'EPOCH_DEPRECATION_WARNING',\n",
       " 'ExponentialLR',\n",
       " 'LambdaLR',\n",
       " 'LinearLR',\n",
       " 'MultiStepLR',\n",
       " 'MultiplicativeLR',\n",
       " 'OneCycleLR',\n",
       " 'Optimizer',\n",
       " 'ReduceLROnPlateau',\n",
       " 'SequentialLR',\n",
       " 'StepLR',\n",
       " '_LRScheduler',\n",
       " '__builtins__',\n",
       " '__cached__',\n",
       " '__doc__',\n",
       " '__file__',\n",
       " '__loader__',\n",
       " '__name__',\n",
       " '__package__',\n",
       " '__spec__',\n",
       " 'bisect_right',\n",
       " 'inf',\n",
       " 'math',\n",
       " 'types',\n",
       " 'warnings',\n",
       " 'weakref',\n",
       " 'wraps']"
      ]
     },
     "execution_count": 6,
     "metadata": {},
     "output_type": "execute_result"
    }
   ],
   "source": [
    "dir(torch.optim.lr_scheduler)"
   ]
  },
  {
   "cell_type": "code",
   "execution_count": null,
   "metadata": {},
   "outputs": [],
   "source": []
  }
 ],
 "metadata": {
  "interpreter": {
   "hash": "435570d4219e70938454f0c8f629267d4bfa46e86b2ba3c4b1d73b5202317604"
  },
  "kernelspec": {
   "display_name": "Python 3.8.5 ('TorchCV')",
   "language": "python",
   "name": "python3"
  },
  "language_info": {
   "codemirror_mode": {
    "name": "ipython",
    "version": 3
   },
   "file_extension": ".py",
   "mimetype": "text/x-python",
   "name": "python",
   "nbconvert_exporter": "python",
   "pygments_lexer": "ipython3",
   "version": "3.8.5"
  },
  "orig_nbformat": 4
 },
 "nbformat": 4,
 "nbformat_minor": 2
}
