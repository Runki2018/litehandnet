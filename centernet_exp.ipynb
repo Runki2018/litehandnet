{
 "cells": [
  {
   "cell_type": "code",
   "execution_count": 2,
   "metadata": {},
   "outputs": [],
   "source": [
    "import numpy as np\n",
    "import torch\n",
    "from torch import nn\n",
    "import matplotlib.pyplot as plt\n",
    "%matplotlib inline"
   ]
  },
  {
   "cell_type": "code",
   "execution_count": 3,
   "metadata": {},
   "outputs": [
    {
     "data": {
      "text/plain": [
       "array([10.666667, 24.      , 32.      , 56.      ], dtype=float32)"
      ]
     },
     "execution_count": 3,
     "metadata": {},
     "output_type": "execute_result"
    }
   ],
   "source": [
    "input_size = (400, 600)  # (h, w)\n",
    "output_size = (64, 64)  # (h, w)\n",
    "bbox_gt = np.array([[100, 150, 300, 350]])  # (x1, y1, x2, y2)\n",
    "\n",
    "# 转换成 特征图 的bbox\n",
    "bboxes = np.array(bbox_gt[:, :4], dtype=np.float32)\n",
    "bboxes[:, 0::2] = bbox_gt[:, 0::2] / input_size[1] * output_size[1]\n",
    "bboxes[:, 1::2] = bbox_gt[:, 1::2] / input_size[0] * output_size[0]\n",
    "# 防止 bbox 超出范围\n",
    "bbox = np.array(bboxes[0])\n",
    "bbox[[0, 2]] = np.clip(bbox[[0, 2]], 0, output_size[1] - 1)\n",
    "bbox[[1, 3]] = np.clip(bbox[[1, 3]], 0, output_size[0] - 1)\n",
    "bbox\n",
    "\n"
   ]
  },
  {
   "cell_type": "code",
   "execution_count": 4,
   "metadata": {},
   "outputs": [],
   "source": [
    "def gaussian_radius(bbox_size, min_overlap=0.7):\n",
    "    \"\"\"cornernet :以真值点为圆心，点可以移动的的半径，保证移动后的bbox与真值bbox IOU >= min_overlap\"\"\"\n",
    "    height, width = bbox_size\n",
    "\n",
    "    a1 = 1\n",
    "    b1 = (height + width)\n",
    "    c1 = width * height * (1 - min_overlap) / (1 + min_overlap)\n",
    "    sq1 = np.sqrt(b1 ** 2 - 4 * a1 * c1)\n",
    "    r1 = (b1 + sq1) / 2\n",
    "\n",
    "    a2 = 4\n",
    "    b2 = 2 * (height + width)\n",
    "    c2 = (1 - min_overlap) * width * height\n",
    "    sq2 = np.sqrt(b2 ** 2 - 4 * a2 * c2)\n",
    "    r2 = (b2 + sq2) / 2\n",
    "\n",
    "    a3 = 4 * min_overlap \n",
    "    b3 = -2 * min_overlap * (height + width)\n",
    "    c3 = (min_overlap - 1) * width * height\n",
    "    sq3 = np.sqrt(b3 ** 2 - 4 * a3 * c3)\n",
    "    r3 = (b3 + sq3) / 2\n",
    "    return min(r1, r2, r3)"
   ]
  },
  {
   "cell_type": "code",
   "execution_count": 5,
   "metadata": {},
   "outputs": [
    {
     "name": "stdout",
     "output_type": "stream",
     "text": [
      "r=7\n",
      "ct=array([21.333334, 40.      ], dtype=float32)\n",
      "ct_int=array([21, 40], dtype=int32)\n"
     ]
    }
   ],
   "source": [
    "h, w = bbox[3] - bbox[1], bbox[2] - bbox[0]\n",
    "r = gaussian_radius((h, w))\n",
    "r = max(0, int(r))\n",
    "ct = np.array([(bbox[0] + bbox[2]) / 2, (bbox[1] + bbox[3]) / 2], dtype=np.float32)\n",
    "ct_int = ct.astype(np.int32)\n",
    "print(f\"{r=}\\n{ct=}\\n{ct_int=}\")"
   ]
  },
  {
   "cell_type": "code",
   "execution_count": 31,
   "metadata": {},
   "outputs": [],
   "source": [
    "def draw_gaussian(heatmap, center, radius, k=1):\n",
    "    diameter = 2 * radius + 1\n",
    "    gaussian = gaussian2D((diameter, diameter), sigma=diameter / 6)\n",
    "\n",
    "    x, y = int(center[0]), int(center[1])\n",
    "\n",
    "    height, width = heatmap.shape[0:2]\n",
    "\n",
    "    left, right = min(x, radius), min(width - x, radius + 1)\n",
    "    top, bottom = min(y, radius), min(height - y, radius + 1)\n",
    "    \n",
    "    masked_heatmap = heatmap[y - top:y + bottom, x - left:x + right]  # 共享内存\n",
    "    masked_gaussian = gaussian[radius - top:radius + bottom, radius - left:radius + right]\n",
    "    \n",
    "    if min(masked_gaussian.shape) > 0 and min(masked_heatmap.shape) > 0:  # TODO debug\n",
    "        np.maximum(masked_heatmap, masked_gaussian * k, out=masked_heatmap)\n",
    "        \n",
    "    return heatmap\n",
    "\n",
    "\n",
    "def gaussian2D(shape, sigma=1):\n",
    "    m, n = [(ss - 1.) / 2. for ss in shape]\n",
    "    y, x = np.ogrid[-m:m + 1, -n:n + 1]\n",
    "\n",
    "    h = np.exp(-(x * x + y * y) / (2 * sigma * sigma))\n",
    "    h[h < np.finfo(h.dtype).eps * h.max()] = 0\n",
    "    return h"
   ]
  },
  {
   "cell_type": "code",
   "execution_count": 32,
   "metadata": {},
   "outputs": [
    {
     "name": "stdout",
     "output_type": "stream",
     "text": [
      "gaussian.shape=(15, 15)\n"
     ]
    },
    {
     "data": {
      "text/plain": [
       "array([[0., 0., 0., ..., 0., 0., 0.],\n",
       "       [0., 0., 0., ..., 0., 0., 0.],\n",
       "       [0., 0., 0., ..., 0., 0., 0.],\n",
       "       ...,\n",
       "       [0., 0., 0., ..., 0., 0., 0.],\n",
       "       [0., 0., 0., ..., 0., 0., 0.],\n",
       "       [0., 0., 0., ..., 0., 0., 0.]], dtype=float32)"
      ]
     },
     "execution_count": 32,
     "metadata": {},
     "output_type": "execute_result"
    }
   ],
   "source": [
    "hm = np.zeros((output_size[0], output_size[1]), dtype=np.float32)\n",
    "hm = draw_gaussian(hm, ct_int, r)\n",
    "hm"
   ]
  },
  {
   "cell_type": "code",
   "execution_count": null,
   "metadata": {},
   "outputs": [],
   "source": []
  }
 ],
 "metadata": {
  "interpreter": {
   "hash": "3cf3c481f90fadfbf722cb3b828ed9b00fdd65b6593be65f64d94912de1f7f65"
  },
  "kernelspec": {
   "display_name": "Python 3.8.5 64-bit ('TorchCV': conda)",
   "language": "python",
   "name": "python3"
  },
  "language_info": {
   "codemirror_mode": {
    "name": "ipython",
    "version": 3
   },
   "file_extension": ".py",
   "mimetype": "text/x-python",
   "name": "python",
   "nbconvert_exporter": "python",
   "pygments_lexer": "ipython3",
   "version": "3.8.5"
  },
  "orig_nbformat": 4
 },
 "nbformat": 4,
 "nbformat_minor": 2
}
