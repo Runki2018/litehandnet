{
 "cells": [
  {
   "cell_type": "code",
   "execution_count": 40,
   "metadata": {},
   "outputs": [],
   "source": [
    "import torch\n",
    "from torch import nn"
   ]
  },
  {
   "cell_type": "code",
   "execution_count": 41,
   "metadata": {},
   "outputs": [],
   "source": [
    "class DistanceLoss(nn.Module):\n",
    "    def __init__(self, loss_type='L2', reduction='mean'):\n",
    "        super().__init__()\n",
    "        if loss_type.lower() == 'l2':\n",
    "            self.criterion = nn.MSELoss(reduction='none')\n",
    "        elif loss_type.lower() == 'l1':\n",
    "            self.criterion = nn.L1Loss(reduction='none')\n",
    "        else:\n",
    "            self.criterion = nn.SmoothL1Loss(reduction='none')\n",
    "        \n",
    "        assert reduction in ['mean', 'sum', None], f\"Error: {reduction=}\"\n",
    "        self.reduction = reduction\n",
    "\n",
    "    def forward(self, output, target, target_weight):\n",
    "        \"\"\"\n",
    "        Args:\n",
    "            output (tensor): [N, K, H, W]\n",
    "            target (tensor): [N, K, H, W]\n",
    "            target_weight (tensor): [N, K, 1]\n",
    "        \"\"\"\n",
    "        loss = self.criterion(output, target)\n",
    "        loss *= target_weight.unsqueeze(-1)\n",
    "        \n",
    "        if self.reduction == 'mean':\n",
    "            return loss.mean()\n",
    "        elif self.reduction == 'sum':\n",
    "            return loss.sum()\n",
    "        return loss"
   ]
  },
  {
   "cell_type": "code",
   "execution_count": 42,
   "metadata": {},
   "outputs": [],
   "source": [
    "class KLDiscretLoss(nn.Module):\n",
    "    \"\"\"计算预测x, y的 1d vector的损失。\n",
    "\n",
    "    Args:\n",
    "        nn ([type]): [description]\n",
    "    \"\"\"\n",
    "    def __init__(self):\n",
    "        super(KLDiscretLoss, self).__init__()\n",
    "        # self.LogSoftmax = nn.LogSoftmax(dim=1)  # [B,LOGITS]\n",
    "        # self.criterion_ = nn.KLDivLoss(reduction='none')\n",
    "        # self.softmax = nn.Softmax(dim=1)\n",
    "        self.criterion_ = nn.SmoothL1Loss(reduction='mean')\n",
    "\n",
    "        \n",
    "    def criterion(self, dec_outs, labels):\n",
    "        # scores = self.LogSoftmax(dec_outs)\n",
    "        # gt_scorces = self.softmax(labels)\n",
    "        # loss = torch.mean(self.criterion_(scores, gt_scorces), dim=1)\n",
    "        loss = self.criterion_(dec_outs, labels)\n",
    "        return loss\n",
    "\n",
    "    def forward(self, output_x, output_y, target_x, target_y, target_weight):\n",
    "        num_joints = output_x.size(1)\n",
    "        loss = 0\n",
    "\n",
    "        for idx in range(num_joints):\n",
    "            coord_x_pred = output_x[:, idx].squeeze()\n",
    "            coord_y_pred = output_y[:, idx].squeeze()\n",
    "            coord_x_gt = target_x[:, idx].squeeze()\n",
    "            coord_y_gt = target_y[:, idx].squeeze()\n",
    "            weight = target_weight[:, idx].squeeze()\n",
    "            loss += (self.criterion(coord_x_pred, coord_x_gt).mul(weight).mean())\n",
    "            loss += (self.criterion(coord_y_pred, coord_y_gt).mul(weight).mean())\n",
    "        return loss / num_joints"
   ]
  },
  {
   "cell_type": "code",
   "execution_count": 43,
   "metadata": {},
   "outputs": [],
   "source": [
    "class SimDRLoss(nn.Module):\n",
    "    def __init__(self, cfg=None):\n",
    "        super().__init__()\n",
    "        # image_size = cfg.DATASET.image_size\n",
    "        # heatmap_size = cfg.DATASET.heatmap_size\n",
    "        # k = cfg.LOSS.simdr_split_ratio\n",
    "        image_size = (12, 12)\n",
    "        heatmap_size = (6, 6)\n",
    "        k = 2\n",
    "\n",
    "        self.simdr_width = int(k * image_size[0])\n",
    "        self.simdr_height = int(k * image_size[1])\n",
    "\n",
    "        in_features = int(heatmap_size[0] * heatmap_size[1])\n",
    "        self.x_shared_decoder = nn.Linear(in_features, self.simdr_width)\n",
    "        self.y_shared_decoder = nn.Linear(in_features, self.simdr_height)\n",
    "        self.loss = KLDiscretLoss()\n",
    "\n",
    "    def forward(self, heatmap, simdr_x, simdr_y, target_weight):\n",
    "        \"\"\"\n",
    "        Args:\n",
    "            heatmap (tensor): [B, K, H, W]\n",
    "            simdr_x (tensor): [B, K, simdr_width] target x vector\n",
    "            simdr_y (tensor): [B, K, simdr_height] target y vector\n",
    "            target_weight (tensor): [B, K, 1]\n",
    "        \"\"\"\n",
    "        pred_x = self.x_shared_decoder(heatmap.flatten(start_dim=2))\n",
    "        pred_y = self.y_shared_decoder(heatmap.flatten(start_dim=2))\n",
    "        loss = self.loss(pred_x, pred_y, simdr_x, simdr_y, target_weight)\n",
    "        \n",
    "        return loss\n"
   ]
  },
  {
   "cell_type": "code",
   "execution_count": 44,
   "metadata": {},
   "outputs": [
    {
     "data": {
      "text/plain": [
       "tensor(0.4933, grad_fn=<DivBackward0>)"
      ]
     },
     "execution_count": 44,
     "metadata": {},
     "output_type": "execute_result"
    }
   ],
   "source": [
    "hm = torch.rand(2, 3, 6, 6)\n",
    "tx = torch.rand(2, 3, 24)\n",
    "ty = torch.rand(2, 3, 24)\n",
    "tw = torch.ones((2, 3, 1))\n",
    "a = SimDRLoss()\n",
    "a(hm, tx, ty, tw)"
   ]
  },
  {
   "cell_type": "code",
   "execution_count": null,
   "metadata": {},
   "outputs": [],
   "source": [
    "\n",
    "class MultiTaskLoss(nn.Module):\n",
    "    \"\"\"\n",
    "        MTL多任务学习,自动权重调节: https://zhuanlan.zhihu.com/p/367881339\n",
    "    \"\"\"\n",
    "    def __init__(self, cfg):\n",
    "        super().__init__()\n",
    "        self.criterion = DistanceLoss(loss_type='L2', reduction='mean')\n",
    "        # self.smoothl1_loss = JointsDistanceLoss(use_target_weight=True,\n",
    "        #                                         loss_type='smoothl1')\n",
    "        self.loss_weight = [1., 1.]   # cfg.LOSS.loss_weight\n",
    "        self.auto_weight = True       # cfg.LOSS.auto_weight\n",
    "        if self.auto_weight:\n",
    "            params = torch.ones(len(self.loss_weight), requires_grad=True)\n",
    "            # TODO:将这个参数也放入优化器的参数优化列表中\n",
    "            self.p = nn.Parameter(params, requires_grad=True)\n",
    "\n",
    "    def forward(self, output, target, target_weight):\n",
    "        device = output.device\n",
    "        # print(f\"{output.shape=}\")\n",
    "        # print(f\"{target.shape=}\")\n",
    "        # print(f\"{target_weight.shape=}\")\n",
    "        kpt_loss = self.criterion(output, target.to(device),\n",
    "                                target_weight.to(device)) * self.loss_weight[0]\n",
    "\n",
    "        loss_dict = dict(kpt_loss=kpt_loss.item())\n",
    "        return kpt_loss, loss_dict"
   ]
  },
  {
   "cell_type": "code",
   "execution_count": null,
   "metadata": {},
   "outputs": [],
   "source": []
  }
 ],
 "metadata": {
  "interpreter": {
   "hash": "435570d4219e70938454f0c8f629267d4bfa46e86b2ba3c4b1d73b5202317604"
  },
  "kernelspec": {
   "display_name": "Python 3.8.5 ('TorchCV')",
   "language": "python",
   "name": "python3"
  },
  "language_info": {
   "codemirror_mode": {
    "name": "ipython",
    "version": 3
   },
   "file_extension": ".py",
   "mimetype": "text/x-python",
   "name": "python",
   "nbconvert_exporter": "python",
   "pygments_lexer": "ipython3",
   "version": "3.8.5"
  },
  "orig_nbformat": 4
 },
 "nbformat": 4,
 "nbformat_minor": 2
}
