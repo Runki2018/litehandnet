{
 "cells": [
  {
   "cell_type": "code",
   "execution_count": 1,
   "metadata": {},
   "outputs": [],
   "source": [
    "import matplotlib\n",
    "import torchvision\n",
    "import torch\n",
    "import torch.nn as nn\n",
    "import numpy as np \n",
    "import math\n",
    "import matplotlib.pyplot as plt\n",
    "import torch.nn.functional as F\n",
    "from einops import rearrange, repeat\n",
    "%matplotlib inline\n",
    "from thop import profile\n",
    "\n",
    "def show_macs_params(net, a):\n",
    "    macs, params = profile(net, inputs=(a,), verbose=False)  # macs == FLOPS, GFLOPS == 1e12 * FLOPS\n",
    "    print(f\"{net._get_name()}\\t\\t{macs=}\\t{params=}\")\n",
    "    from thop import clever_format\n",
    "    macs, params = clever_format([macs, params], \"%.3f\")\n",
    "    print(f\"{macs=}\\t{params=}\\n\")"
   ]
  },
  {
   "cell_type": "code",
   "execution_count": null,
   "metadata": {},
   "outputs": [],
   "source": [
    "\n",
    "from models.hourglass_SA import HourglassNet_SA as Network\n",
    "# from models.lite_hrnet import LiteHRNet as Network\n",
    "device = torch.device('cpu')\n",
    "\n",
    "state = torch.load('checkpoint/Center_SimDR/1HG-ME-att-c128-k2/73.82_AP_0epoch.pt', map_location=device)['state_dict']\n",
    "total_params = sum([v.nelement() for v in state.values()])\n",
    "print(\"Number of parameter: %.2fM\" % (total_params / 1e6))\n",
    "\n",
    "for k, v in state.items():\n",
    "    print(f\"{k}:\\t {v.shape}\")\n",
    "\n",
    "a = torch.rand(1, 3, 256, 256)\n",
    "net = Network().to(device)\n",
    "# 通过 thop 计算\n",
    "show_macs_params(net, a)"
   ]
  },
  {
   "cell_type": "code",
   "execution_count": 3,
   "metadata": {},
   "outputs": [
    {
     "name": "stdout",
     "output_type": "stream",
     "text": [
      "successfully import package\n",
      "SimDR\t\tmacs=88080384.0\tparams=4195328.0\n",
      "macs='88.080M'\tparams='4.195M'\n",
      "\n",
      "StemBlock\t\tmacs=96075776.0\tparams=16000.0\n",
      "macs='96.076M'\tparams='16.000K'\n",
      "\n",
      "DWConv\t\tmacs=18481152.0\tparams=18048.0\n",
      "macs='18.481M'\tparams='18.048K'\n",
      "\n",
      "SplitDWConv\t\tmacs=5246656.0\tparams=27904.0\n",
      "macs='5.247M'\tparams='27.904K'\n",
      "\n",
      "channel_attention3x3\t\tmacs=136320.0\tparams=18048.0\n",
      "macs='136.320K'\tparams='18.048K'\n",
      "\n",
      "ME_att\t\tmacs=54727808.0\tparams=71360.0\n",
      "macs='54.728M'\tparams='71.360K'\n",
      "\n",
      "BRC\t\tmacs=151257088.0\tparams=147712.0\n",
      "macs='151.257M'\tparams='147.712K'\n",
      "\n",
      "Residual\t\tmacs=55312384.0\tparams=54016.0\n",
      "macs='55.312M'\tparams='54.016K'\n",
      "\n",
      "完整网络的参数：\n",
      "HourglassNet_SA\t\tmacs=301706880.0\tparams=5043736.0\n",
      "macs='301.707M'\tparams='5.044M'\n",
      "\n"
     ]
    }
   ],
   "source": [
    "size = 64\n",
    "class SimDR(nn.Module):\n",
    "\n",
    "    def __init__(self) :\n",
    "        super(SimDR, self).__init__()\n",
    "        \n",
    "        self.pred_x = nn.Linear(size ** 2 , int(256 * 2)) \n",
    "        self.pred_y = nn.Linear(size ** 2, int(256 * 2))\n",
    "\n",
    "    def forward(self, x):\n",
    "        # kpts = self.vector_feature(feature)\n",
    "        # kpts = rearrange(kpts, 'b c h w -> b c (h w)')\n",
    "        b,c, h, w = x.shape\n",
    "        x = x.view(b, c, -1)\n",
    "        pred_x = self.pred_x(x)  # (b, c, w * k)\n",
    "        pred_y = self.pred_y(x)  # (b, c, h * k)\n",
    "        return pred_x, pred_y  \n",
    "\n",
    "from thop import profile\n",
    "from models.layers import LiteHG, LiteResidual, Residual, LiteBRC, InvertedResidual, GhostConv, DWConv, SplitDWConv, channel_attention3x3, GhostConv, ReducedConv1x1, ms_att, fuse_block\n",
    "from models.LiteHourglass import BRC, StemBlock, LiteHourglass\n",
    "from models.attention import NAM_Channel_Att\n",
    "from models.hourglass_SA import ME_att, HourglassNet_SA, my_pelee_stem\n",
    "\n",
    "print('successfully import package')\n",
    "\n",
    "a = torch.rand(1, 21, size, size)\n",
    "show_macs_params(SimDR(), a)\n",
    "\n",
    "a = torch.rand(1, 3, 256, 256)\n",
    "show_macs_params(StemBlock(64, 32), a)\n",
    "\n",
    "\n",
    "size = 32\n",
    "c = 128\n",
    "a = torch.rand(1, c, size, size)\n",
    "\n",
    "# net = NAM_Channel_Att(c)\n",
    "# net = channel_attention3x3(c)\n",
    "# net = InvertedResidual(c, c, 2)\n",
    "show_macs_params(DWConv(c, c), a)\n",
    "# net = GhostConv(c, c)\n",
    "show_macs_params(SplitDWConv(c, c), a)\n",
    "show_macs_params(channel_attention3x3(c), a)\n",
    "\n",
    "# show_macs_params(LiteHG(4, c), a)\n",
    "# net = Bi_HG(4, c)\n",
    "# net = BRC(c, c)\n",
    "# net = GhostConv(c, c)\n",
    "# net = ReducedConv1x1(c, c)\n",
    "\n",
    "show_macs_params(ME_att(c, c), a)\n",
    "# net = ms_att(c)\n",
    "\n",
    "\n",
    "# net = MS_HG(c, c * 4, 4, 4)\n",
    "# net = LiteResidual(c, c)\n",
    "# show_macs_params(net, a)\n",
    "\n",
    "# net = LiteBRC(c, c)\n",
    "\n",
    "# net = ME_att(c, c)\n",
    "\n",
    "show_macs_params(BRC(c, c), a)\n",
    "show_macs_params(Residual(c, c), a)\n",
    "# # y = net(a)\n",
    "\n",
    "print(f\"完整网络的参数：\")\n",
    "a = torch.rand(1, 3, 128, 128)\n",
    "# net = my_pelee_stem(128)\n",
    "# net = LiteHourglass(1, 128)\n",
    "net = HourglassNet_SA(1)\n",
    "show_macs_params(net, a)"
   ]
  },
  {
   "cell_type": "code",
   "execution_count": null,
   "metadata": {},
   "outputs": [],
   "source": [
    "class Stem(nn.Module):\n",
    "    def __init__(self, inp_dim=128) :\n",
    "        super().__init__() \n",
    "        self.pre = nn.Sequential(\n",
    "            # Conv(3, 64, 7, 2, bn=True, relu=True),\n",
    "            nn.Conv2d(3, 64, 7, 2, 3, bias=False),\n",
    "            nn.BatchNorm2d(64),\n",
    "            nn.ReLU(inplace=True),\n",
    "            Residual(64, 128),\n",
    "            nn.MaxPool2d(2, 2),\n",
    "            Residual(128, 128),\n",
    "            Residual(128, inp_dim)\n",
    "        )\n",
    "    def forward(self, x):\n",
    "        return self.pre(x)\n",
    "\n",
    "a = torch.rand(1, 3, 256, 256)\n",
    "net = Stem()\n",
    "show_macs_params(net, a)"
   ]
  },
  {
   "cell_type": "code",
   "execution_count": 21,
   "metadata": {},
   "outputs": [
    {
     "name": "stdout",
     "output_type": "stream",
     "text": [
      "channel_attention3x3\t\tmacs=524928.0\tparams=512.0\n",
      "macs='524.928K'\tparams='512.000B'\n",
      "\n"
     ]
    }
   ],
   "source": [
    "class channel_attention3x3(nn.Module):\n",
    "    def __init__(self, channel=128):\n",
    "        super().__init__()\n",
    "        self.att = nn.Sequential(\n",
    "                    nn.AdaptiveAvgPool2d((1, 1)),\n",
    "                    nn.BatchNorm2d(channel),\n",
    "                    nn.ReLU(inplace=True),\n",
    "                    nn.Conv2d(channel, channel, 1, 1, 0, groups=channel),      \n",
    "                    # nn.Dropout(p=0.3),\n",
    "                    nn.Flatten(),\n",
    "                    # nn.Linear(channel, channel),\n",
    "                    nn.Sigmoid(),  \n",
    "                    # nn.BatchNorm1d(channel),\n",
    "                    # nn.LeakyReLU(inplace=True),  \n",
    "                    )\n",
    "        \n",
    "\n",
    "    def forward(self, x):\n",
    "        att = self.att(x)\n",
    "        b, c, _, _ = x.shape\n",
    "        x = x * att.view(b, c, 1, 1)\n",
    "        return x\n",
    "\n",
    "a = torch.rand(1, 128, 64, 64)\n",
    "net = channel_attention3x3()\n",
    "show_macs_params(net, a)"
   ]
  },
  {
   "cell_type": "code",
   "execution_count": 7,
   "metadata": {},
   "outputs": [
    {
     "data": {
      "text/plain": [
       "torch.Size([1, 2, 10, 10])"
      ]
     },
     "execution_count": 7,
     "metadata": {},
     "output_type": "execute_result"
    }
   ],
   "source": [
    "from torch.nn import functional as F\n",
    "a = torch.rand(1, 2, 5, 5)\n",
    "# a = F.upsample_nearest(a, scale_factor=2)\n",
    "a= F.interpolate(a, scale_factor=2, mode='nearest')\n",
    "a.shape"
   ]
  },
  {
   "cell_type": "code",
   "execution_count": 10,
   "metadata": {},
   "outputs": [
    {
     "data": {
      "text/plain": [
       "array([ True])"
      ]
     },
     "execution_count": 10,
     "metadata": {},
     "output_type": "execute_result"
    }
   ],
   "source": [
    "np.random.rand(1) > 0.5"
   ]
  },
  {
   "cell_type": "code",
   "execution_count": 26,
   "metadata": {},
   "outputs": [
    {
     "name": "stdout",
     "output_type": "stream",
     "text": [
      "[0.29818155] False\n"
     ]
    }
   ],
   "source": [
    "a = np.random.rand(1) \n",
    "if a > 0.5:\n",
    "    print(a, True)\n",
    "else:\n",
    "    print(a, False)"
   ]
  },
  {
   "cell_type": "code",
   "execution_count": null,
   "metadata": {},
   "outputs": [],
   "source": []
  }
 ],
 "metadata": {
  "interpreter": {
   "hash": "3cf3c481f90fadfbf722cb3b828ed9b00fdd65b6593be65f64d94912de1f7f65"
  },
  "kernelspec": {
   "display_name": "Python 3.8.5 64-bit ('TorchCV': conda)",
   "language": "python",
   "name": "python3"
  },
  "language_info": {
   "codemirror_mode": {
    "name": "ipython",
    "version": 3
   },
   "file_extension": ".py",
   "mimetype": "text/x-python",
   "name": "python",
   "nbconvert_exporter": "python",
   "pygments_lexer": "ipython3",
   "version": "3.8.5"
  },
  "orig_nbformat": 4
 },
 "nbformat": 4,
 "nbformat_minor": 2
}
